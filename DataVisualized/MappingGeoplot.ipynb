{
 "cells": [
  {
   "cell_type": "markdown",
   "metadata": {},
   "source": [
    "# Visualizing Geospatial Data in Python\n",
    "\n",
    "## By Paco Nathan posted Sun May 17, 2020 11:25 PM\n",
    "## https://community.ibm.com/community/user/datascience/blogs/paco-nathan/2020/05/17/viz-geo-data-py     \n",
    " \n",
    "Throughout the global pandemic, many people have spent lots of time viewing maps that visualize data. Important data. People who work in data science are probably seeing increased needs to work with geospatial data, especially for visualizations. There are increased needs to understand metrics about geographic regions, to analyze supply chain, make plans that take into account local conditions and rules, etc.\n",
    "\n",
    "This article shows how to use two popular geospatial libraries in Python:\n",
    "\n",
    "**geopandas:** extends Pandas to allow spatial operations on geometric types\n",
    "\n",
    "**geoplot:** a high-level geospatial plotting library\n",
    "\n",
    "\n",
    "The second library is especially helpful since it builds on top of several other popular geospatial libraries, to simplify the coding that’s typically required. Those include: cartopy, which in turn leverages Cython, NumPy, GEOS, Shapely, pyshp, PROJ, Six, and perhaps a few others such as mapclassify, depending on which features you need to use.\n",
    "\n",
    "Note: all of this code is available in a Jupyter notebook at https://github.com/DerwenAI/ibm_dsc_articles/blob/master/2020_05/tutorial.ipynb\n"
   ]
  },
  {
   "cell_type": "markdown",
   "metadata": {},
   "source": [
    "## Installation\n",
    "You need two packages to run this tutorial: geopandas and geoplot\n",
    "Installation should be quick. Just use the following command lines:"
   ]
  },
  {
   "cell_type": "markdown",
   "metadata": {},
   "source": [
    "*#Run the following in terminal:*\n",
    "\n",
    "conda create --name geoplot_compatible python=3.8\n",
    "\n",
    "conda activate geoplot_compatible\n",
    "\n",
    "conda install mamba -c conda-forge/label/mamba-alpha -c conda-forge\n",
    "\n",
    "pip install Cython > 0.29.16\n",
    "\n",
    "pip install descartes > 1.1.0\n",
    "\n",
    "pip install imageio > 2.8.0\n",
    "\n",
    "pip install jupyter > 1.0.0\n",
    "\n",
    "pip install jupyterlab > 2.1.0\n",
    "\n",
    "pip install matplotlib > 3.2.1\n",
    "\n",
    "pip install shapely --no-binary shapely \n",
    "\n",
    "conda install -c anaconda git\n",
    "\n",
    "pip install git+https://github.com/SciTools/cartopy.git --no-binary cartopy\n",
    "\n",
    "pip install pysal --no-binary pysal\n",
    "\n",
    "conda install --channel conda-forge cartopy\n",
    "\n",
    "pip install geopandas\n",
    "\n",
    "pip install geoplot\n",
    "\n",
    "python -m ipykernel install --user --name=geoplot_compatible\n",
    "\n"
   ]
  },
  {
   "cell_type": "markdown",
   "metadata": {},
   "source": [
    "To run this notebook in \"geoplot_compatible\", click \"Kernel\">\"Change kernel\" > \"geoplot_compatible\"\n",
    "\n",
    "If you don't see \"geoplot_compatible\" as an option, refresh your browser page.\n",
    "\n",
    "**Note:** if you run into problems with these installations, there are alternative approaches available. Some additional notes discuss how to build these dependencies on Linux  https://github.com/DerwenAI/ibm_dsc_articles/blob/master/2020_05/INSTALL.md"
   ]
  },
  {
   "cell_type": "code",
   "execution_count": null,
   "metadata": {},
   "outputs": [],
   "source": [
    "#To import the required packages for Python:\n",
    "\n",
    "import geoplot as gplt\n",
    "import geopandas as gpd\n",
    "import geoplot.crs as gcrs\n",
    "import imageio\n",
    "import pandas as pd\n",
    "import pathlib\n",
    "import matplotlib.animation as animation\n",
    "import matplotlib.pyplot as plt\n",
    "import mapclassify as mc\n",
    "import numpy as np\n",
    "\n",
    "%matplotlib inline\n",
    "\n",
    "pd.options.display.max_rows = 500\n",
    "pd.options.display.max_columns = 500"
   ]
  },
  {
   "cell_type": "markdown",
   "metadata": {},
   "source": [
    "Note: if you run into problems with these installations, there are alternative approaches available. Some additional notes discuss how to build these dependencies on Linux  github.com/DerwenAI/ibm_dsc_articles/blob/master/2020_05/INSTALL.md\n",
    "\n",
    "Terminology\n",
    "Part of the learning curve for working with geospatial data is that there’s lots of special terminology used. Here’s a handy cheat-sheet for terms that you’re likely to encounter:\n",
    "\n",
    "* **shapefile:** data file format used to represent items on a map\n",
    "* **geometry:** a vector (generally a column in a dataframe) used to represent points, polygons, and other geometric shapes or locations, usually represented as well-known text (WKT)\n",
    "* **polygon:** an area\n",
    "* **point:** a specific location\n",
    "* **basemap:** the background setting for a map, such as county borders in California\n",
    "* **projection:** since the Earth is a 3D spheroid, chose a method for how an area gets flattened into 2D map, using some coordinate reference system (CRS)\n",
    "* **colormap:** choice of a color palette for rendering data, selected with the cmap parameter\n",
    "* **overplotting:** stacking several different plots on top of one another\n",
    "* **choropleth:** using different hues to color polygons, as a way to represent data levels\n",
    "* **kernel density estimation:** a data smoothing technique (KDE) that creates contours of shading to represent data levels\n",
    "* **cartogram:** warping the relative area of polygons to represent data levels\n",
    "* **quantiles:** binning data values into a specified number of equal-sized groups\n",
    "* **voronoi diagram:** dividing an area into polygons such that each polygon contains exactly one generating point and every point in a given polygon is closer to its generating point than to any other; also called a Dirichlet tessellation\n",
    "\n",
    "Okay, with those terms defined here for reference … let’s go!\n",
    "\n",
    "### Load Some Data\n",
    "We need to get some data to use for these examples. While geoplot includes plenty of sample datasets in the geojson format, it helps to know how to load your own data.\n",
    "\n",
    "First, let’s get a shapefile from the US Census Bureau TIGER database to visualize state boundaries, which we’ll place into a maps subdirectory:"
   ]
  },
  {
   "cell_type": "code",
   "execution_count": null,
   "metadata": {},
   "outputs": [],
   "source": [
    "usa = gpd.read_file(\"./maps/cb_2018_us_state_20m.shp\")\n",
    "usa.head()"
   ]
  },
  {
   "cell_type": "markdown",
   "metadata": {},
   "source": [
    "Notice the geometry column above, which specifies polygon shapes.\n",
    "\n",
    "Now we'll load the US Census data as a pandas dataframe and view a portion of it:"
   ]
  },
  {
   "cell_type": "code",
   "execution_count": null,
   "metadata": {},
   "outputs": [],
   "source": [
    "state_pop = pd.read_csv(\"./maps/nst-est2018-alldata.csv\")\n",
    "state_pop.head()"
   ]
  },
  {
   "cell_type": "markdown",
   "metadata": {},
   "source": [
    "Next we *merge* the shapefile with population data, joining on the state names:"
   ]
  },
  {
   "cell_type": "code",
   "execution_count": null,
   "metadata": {},
   "outputs": [],
   "source": [
    "pop_states = usa.merge(state_pop, left_on=\"NAME\", right_on=\"NAME\")\n",
    "pop_states.head()"
   ]
  },
  {
   "cell_type": "markdown",
   "metadata": {},
   "source": [
    "Great, now that data is ready to plot a shape. We'll specify \"California\" by name:"
   ]
  },
  {
   "cell_type": "code",
   "execution_count": null,
   "metadata": {},
   "outputs": [],
   "source": [
    "pop_states[pop_states.NAME==\"California\"].plot()"
   ]
  },
  {
   "cell_type": "markdown",
   "metadata": {},
   "source": [
    "Alternatively, we can create a GeoDataFrame (a dataframe with geospatial data) by loading one of the sample datasets from geoplot, in this case the polygones for state boundaries. Search around in \"gplt.datasets\" to learn more about baselayers available for plotting without download:"
   ]
  },
  {
   "cell_type": "code",
   "execution_count": null,
   "metadata": {},
   "outputs": [],
   "source": [
    "path = gplt.datasets.get_path(\"contiguous_usa\")\n",
    "contiguous_usa = gpd.read_file(path)\n",
    "contiguous_usa.head()"
   ]
  },
  {
   "cell_type": "markdown",
   "metadata": {},
   "source": [
    "Then plot the map of the US states:"
   ]
  },
  {
   "cell_type": "code",
   "execution_count": null,
   "metadata": {},
   "outputs": [],
   "source": [
    "gplt.polyplot(contiguous_usa)"
   ]
  },
  {
   "cell_type": "markdown",
   "metadata": {},
   "source": [
    "Then plot the locations of each city in the continental US as points (this data is also available through geoplot):"
   ]
  },
  {
   "cell_type": "code",
   "execution_count": null,
   "metadata": {},
   "outputs": [],
   "source": [
    "path = gplt.datasets.get_path(\"usa_cities\")\n",
    "usa_cities = gpd.read_file(path)\n",
    "usa_cities.head()"
   ]
  },
  {
   "cell_type": "code",
   "execution_count": null,
   "metadata": {},
   "outputs": [],
   "source": [
    "continental_usa_cities = usa_cities.query('STATE not in [\"HI\", \"AK\", \"PR\"]')\n",
    "gplt.pointplot(continental_usa_cities)"
   ]
  },
  {
   "cell_type": "markdown",
   "metadata": {},
   "source": [
    "Composing those two, we'll use overplotting to show the cities and states in the continental US. Note how the ax variable for the state polygons provides an axis on which to plot the cities:"
   ]
  },
  {
   "cell_type": "code",
   "execution_count": null,
   "metadata": {},
   "outputs": [],
   "source": [
    "ax = gplt.polyplot(contiguous_usa)\n",
    "gplt.pointplot(continental_usa_cities, ax=ax)"
   ]
  },
  {
   "cell_type": "markdown",
   "metadata": {},
   "source": [
    "That looks a bit stretched, so let's adjust the projection to use an Albers equal-area conic projection:"
   ]
  },
  {
   "cell_type": "code",
   "execution_count": null,
   "metadata": {},
   "outputs": [],
   "source": [
    "ax = gplt.polyplot(contiguous_usa, projection=gcrs.AlbersEqualArea())\n",
    "gplt.pointplot(continental_usa_cities, ax=ax)"
   ]
  },
  {
   "cell_type": "markdown",
   "metadata": {},
   "source": [
    "## Representing Data\n",
    "Now let's compare several different ways to visualize geospatial data. First, we'll change the hue of a city's plotted point based on that city's elevation, and also add a legend for people to decode the meaning of the different hues. The parameter lists start to get long-ish, so we'll split each parameter into a different line:"
   ]
  },
  {
   "cell_type": "code",
   "execution_count": null,
   "metadata": {},
   "outputs": [],
   "source": [
    "ax = gplt.polyplot(contiguous_usa, projection=gcrs.AlbersEqualArea())\n",
    "\n",
    "gplt.pointplot(\n",
    "    continental_usa_cities,\n",
    "    ax=ax,\n",
    "    hue=\"ELEV_IN_FT\",\n",
    "    legend=True\n",
    ")"
   ]
  },
  {
   "cell_type": "markdown",
   "metadata": {},
   "source": [
    "We can also use the scale of each plotted point to represent another dimension. In this case, the scale of the city points is based on their elevation:"
   ]
  },
  {
   "cell_type": "code",
   "execution_count": null,
   "metadata": {},
   "outputs": [],
   "source": [
    "\n",
    "ax = gplt.polyplot(\n",
    "    contiguous_usa, \n",
    "    edgecolor=\"white\",\n",
    "    facecolor=\"lightgray\",\n",
    "    figsize=(12, 8),\n",
    "    projection=gcrs.AlbersEqualArea()\n",
    ")\n",
    "\n",
    "gplt.pointplot(\n",
    "    continental_usa_cities,\n",
    "    ax=ax,\n",
    "    hue=\"ELEV_IN_FT\",\n",
    "    cmap=\"Blues\",\n",
    "    scheme=\"quantiles\",\n",
    "    scale=\"ELEV_IN_FT\",\n",
    "    limits=(1, 10),\n",
    "    legend=True,\n",
    "    legend_var=\"scale\",\n",
    "    legend_kwargs={\"frameon\": False},\n",
    "    legend_values=[-110, 1750, 3600, 5500, 7400],\n",
    "    legend_labels=[\"-110 feet\", \"1750 feet\", \"3600 feet\", \"5500 feet\", \"7400 feet\"]\n",
    ")\n",
    "\n",
    "ax.set_title(\"Cities in the continental US, by elevation\", fontsize=16)"
   ]
  },
  {
   "cell_type": "code",
   "execution_count": null,
   "metadata": {},
   "outputs": [],
   "source": [
    "?continental_usa_cities"
   ]
  },
  {
   "cell_type": "markdown",
   "metadata": {},
   "source": [
    "## TASK 1: Plot the cities in the United States with a point scale for population and a color scale for elevation. "
   ]
  },
  {
   "cell_type": "markdown",
   "metadata": {},
   "source": [
    "With a choropleth we use different hues to shade polygons, to represent a dimension of data."
   ]
  },
  {
   "cell_type": "code",
   "execution_count": null,
   "metadata": {},
   "outputs": [],
   "source": [
    "ax = gplt.polyplot(contiguous_usa, projection=gcrs.AlbersEqualArea())\n",
    "\n",
    "gplt.choropleth(\n",
    "    contiguous_usa,\n",
    "    hue=\"population\",\n",
    "    edgecolor=\"white\",\n",
    "    linewidth=1,\n",
    "    cmap=\"Greens\",\n",
    "    legend=True,\n",
    "    scheme=\"FisherJenks\",\n",
    "    legend_labels=[\n",
    "        \"<3 million\", \"3-6.7 million\", \"6.7-12.8 million\",\n",
    "        \"12.8-25 million\", \"25-37 million\"\n",
    "    ],\n",
    "    projection=gcrs.AlbersEqualArea(),\n",
    "    ax=ax\n",
    ")"
   ]
  },
  {
   "cell_type": "markdown",
   "metadata": {},
   "source": [
    "A data smoothing technique known as kernel density estimation (KDE) creates contours to represent a dimension of data. In this case, we'll zoom in to view the traffic collisions in the NYC boroughs:"
   ]
  },
  {
   "cell_type": "code",
   "execution_count": null,
   "metadata": {},
   "outputs": [],
   "source": [
    "boroughs = gpd.read_file(gplt.datasets.get_path(\"nyc_boroughs\"))\n",
    "collisions = gpd.read_file(gplt.datasets.get_path(\"nyc_collision_factors\"))\n",
    "\n",
    "ax = gplt.polyplot(boroughs, projection=gcrs.AlbersEqualArea())\n",
    "gplt.kdeplot(collisions, cmap=\"Reds\", shade=True, clip=boroughs, ax=ax)"
   ]
  },
  {
   "cell_type": "markdown",
   "metadata": {},
   "source": [
    "Let's zoom out to try KDE on major population centers throughout the US:"
   ]
  },
  {
   "cell_type": "code",
   "execution_count": null,
   "metadata": {},
   "outputs": [],
   "source": [
    "ax = gplt.polyplot(contiguous_usa, projection=gcrs.AlbersEqualArea())\n",
    "\n",
    "gplt.kdeplot(\n",
    "    continental_usa_cities, \n",
    "    cmap=\"Reds\", \n",
    "    shade=True, \n",
    "    clip=contiguous_usa, \n",
    "    ax=ax\n",
    ")"
   ]
  },
  {
   "cell_type": "markdown",
   "metadata": {},
   "source": [
    "## TASK 2. Answer: Are we visualizing raw data in the above KDE plots? Why or why not (be specific)?"
   ]
  },
  {
   "cell_type": "markdown",
   "metadata": {},
   "source": [
    "This next section shows how to work with data associated with areas (polygons). We'll load a dataset about obesity rates by US state:"
   ]
  },
  {
   "cell_type": "code",
   "execution_count": null,
   "metadata": {},
   "outputs": [],
   "source": [
    "obesity = pd.read_csv(gplt.datasets.get_path(\"obesity_by_state\"), sep=\"\\t\")\n",
    "obesity.head()"
   ]
  },
  {
   "cell_type": "markdown",
   "metadata": {},
   "source": [
    "Convert that into a GeoDataFrame using a join. Note how this adds the required \"geometry\" column:"
   ]
  },
  {
   "cell_type": "code",
   "execution_count": null,
   "metadata": {},
   "outputs": [],
   "source": [
    "geo_obesity = contiguous_usa.set_index(\"state\").join(obesity.set_index(\"State\"))\n",
    "geo_obesity.head()"
   ]
  },
  {
   "cell_type": "markdown",
   "metadata": {},
   "source": [
    "Now we can use this data to plot a cartogram, which grows or shrinks polygons to represent a dimension of data – in this case, the obesity rates per state:"
   ]
  },
  {
   "cell_type": "code",
   "execution_count": null,
   "metadata": {},
   "outputs": [],
   "source": [
    "gplt.cartogram(\n",
    "    geo_obesity,\n",
    "    scale=\"Percent\",\n",
    "    projection=gcrs.AlbersEqualArea()\n",
    ")"
   ]
  },
  {
   "cell_type": "markdown",
   "metadata": {},
   "source": [
    "One good approach to simplifying data visualization is binning the data into quantiles. These are equal-sized groups, in this case 10 quantiles for elevation:"
   ]
  },
  {
   "cell_type": "code",
   "execution_count": null,
   "metadata": {},
   "outputs": [],
   "source": [
    "scheme = mc.Quantiles(continental_usa_cities[\"ELEV_IN_FT\"], k=10)\n",
    "scheme"
   ]
  },
  {
   "cell_type": "markdown",
   "metadata": {},
   "source": [
    "Here we've divided the elevations into 10 quantiles with approximately 375 values each. Now let's assign a different hue to each quantile, plus a legend to explain them:"
   ]
  },
  {
   "cell_type": "code",
   "execution_count": null,
   "metadata": {},
   "outputs": [],
   "source": [
    "gplt.pointplot(\n",
    "    continental_usa_cities,\n",
    "    projection=gcrs.AlbersEqualArea(),\n",
    "    hue=\"ELEV_IN_FT\",\n",
    "    scheme=scheme,\n",
    "    cmap=\"inferno_r\",\n",
    "    legend=True\n",
    ")"
   ]
  },
  {
   "cell_type": "markdown",
   "metadata": {},
   "source": [
    "Note how the colormap was changed to inferno_r. Next, let's add a filter for typical warnings that can be ignored:"
   ]
  },
  {
   "cell_type": "code",
   "execution_count": null,
   "metadata": {},
   "outputs": [],
   "source": [
    "import warnings\n",
    "\n",
    "warnings.filterwarnings(\"ignore\", \"GeoSeries.isna\", UserWarning)"
   ]
  },
  {
   "cell_type": "markdown",
   "metadata": {},
   "source": [
    "The next example uses a voronoi diagram, to calculate polygon areas based on a dimension of the data. Each polygon is centered on a generating point, such that every location in the polygon is closer to its generating point than to any other.\n",
    "\n",
    "In the following example, we'll plot the locations primary schools in Melbourne, Australia, and use a voronoi diagram to show where they are concentrated:"
   ]
  },
  {
   "cell_type": "code",
   "execution_count": null,
   "metadata": {},
   "outputs": [],
   "source": [
    "melbourne = gpd.read_file(gplt.datasets.get_path(\"melbourne\"))\n",
    "df = gpd.read_file(gplt.datasets.get_path(\"melbourne_schools\"))\n",
    "melbourne_primary_schools = df.query('School_Type == \"Primary\"')\n",
    "\n",
    "ax = gplt.voronoi(\n",
    "    melbourne_primary_schools,\n",
    "    clip=melbourne,\n",
    "    linewidth=0.5,\n",
    "    edgecolor=\"white\",\n",
    "    projection=gcrs.Mercator()\n",
    ")\n",
    "\n",
    "gplt.polyplot(\n",
    "    melbourne, \n",
    "    edgecolor=\"None\", \n",
    "    facecolor=\"lightgray\",\n",
    "    ax=ax\n",
    ")\n",
    "\n",
    "gplt.pointplot(\n",
    "    melbourne_primary_schools,\n",
    "    color=\"black\",\n",
    "    ax=ax,\n",
    "    s=1,\n",
    "    extent=melbourne.total_bounds\n",
    ")\n",
    "\n",
    "plt.title(\"Primary Schools in Greater Melbourne, 2018\")"
   ]
  },
  {
   "cell_type": "markdown",
   "metadata": {},
   "source": [
    "Let's construct a voronoi diagram for the elevations of US cities. This is a data smoothing technique since the elevations are for points, but we'll \"spread\" those values across areas:"
   ]
  },
  {
   "cell_type": "code",
   "execution_count": null,
   "metadata": {},
   "outputs": [],
   "source": [
    "proj = gplt.crs.AlbersEqualArea(\n",
    "    central_longitude=-98,\n",
    "    central_latitude=39.5\n",
    ")\n",
    "\n",
    "ax = gplt.voronoi(\n",
    "    continental_usa_cities,\n",
    "    hue=\"ELEV_IN_FT\",\n",
    "    clip=contiguous_usa,\n",
    "    projection=proj,\n",
    "    cmap=\"Reds\",\n",
    "    legend=True,\n",
    "    edgecolor=\"white\",\n",
    "    linewidth=0.01\n",
    ")\n",
    "\n",
    "gplt.polyplot(\n",
    "    contiguous_usa,\n",
    "    ax=ax,\n",
    "    extent=contiguous_usa.total_bounds,\n",
    "    edgecolor=\"black\",\n",
    "    linewidth=1,\n",
    "    zorder=1\n",
    ")"
   ]
  },
  {
   "cell_type": "markdown",
   "metadata": {},
   "source": [
    "## TASK 3: Fix this error message so you can plot your data."
   ]
  }
 ],
 "metadata": {
  "kernelspec": {
   "display_name": "geoplot_compatible",
   "language": "python",
   "name": "geoplot_compatible"
  },
  "language_info": {
   "codemirror_mode": {
    "name": "ipython",
    "version": 3
   },
   "file_extension": ".py",
   "mimetype": "text/x-python",
   "name": "python",
   "nbconvert_exporter": "python",
   "pygments_lexer": "ipython3",
   "version": "3.8.5"
  }
 },
 "nbformat": 4,
 "nbformat_minor": 4
}
